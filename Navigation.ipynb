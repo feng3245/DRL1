{
 "cells": [
  {
   "cell_type": "markdown",
   "metadata": {},
   "source": [
    "# Navigation\n",
    "\n",
    "---\n",
    "\n",
    "You are welcome to use this coding environment to train your agent for the project.  Follow the instructions below to get started!\n",
    "\n",
    "### 1. Start the Environment\n",
    "\n",
    "Run the next code cell to install a few packages.  This line will take a few minutes to run!"
   ]
  },
  {
   "cell_type": "code",
   "execution_count": 1,
   "metadata": {},
   "outputs": [
    {
     "name": "stdout",
     "output_type": "stream",
     "text": [
      "\u001b[31mtensorflow 1.7.1 has requirement numpy>=1.13.3, but you'll have numpy 1.12.1 which is incompatible.\u001b[0m\r\n",
      "\u001b[31mipython 6.5.0 has requirement prompt-toolkit<2.0.0,>=1.0.15, but you'll have prompt-toolkit 2.0.10 which is incompatible.\u001b[0m\r\n"
     ]
    }
   ],
   "source": [
    "!pip -q install ./python"
   ]
  },
  {
   "cell_type": "markdown",
   "metadata": {},
   "source": [
    "The environment is already saved in the Workspace and can be accessed at the file path provided below.  Please run the next code cell without making any changes."
   ]
  },
  {
   "cell_type": "code",
   "execution_count": 2,
   "metadata": {},
   "outputs": [
    {
     "name": "stderr",
     "output_type": "stream",
     "text": [
      "INFO:unityagents:\n",
      "'Academy' started successfully!\n",
      "Unity Academy name: Academy\n",
      "        Number of Brains: 1\n",
      "        Number of External Brains : 1\n",
      "        Lesson number : 0\n",
      "        Reset Parameters :\n",
      "\t\t\n",
      "Unity brain name: BananaBrain\n",
      "        Number of Visual Observations (per agent): 0\n",
      "        Vector Observation space type: continuous\n",
      "        Vector Observation space size (per agent): 37\n",
      "        Number of stacked Vector Observation: 1\n",
      "        Vector Action space type: discrete\n",
      "        Vector Action space size (per agent): 4\n",
      "        Vector Action descriptions: , , , \n"
     ]
    }
   ],
   "source": [
    "from unityagents import UnityEnvironment\n",
    "import numpy as np\n",
    "\n",
    "# please do not modify the line below\n",
    "env = UnityEnvironment(file_name=\"/data/Banana_Linux_NoVis/Banana.x86_64\")"
   ]
  },
  {
   "cell_type": "markdown",
   "metadata": {},
   "source": [
    "Environments contain **_brains_** which are responsible for deciding the actions of their associated agents. Here we check for the first brain available, and set it as the default brain we will be controlling from Python."
   ]
  },
  {
   "cell_type": "code",
   "execution_count": 3,
   "metadata": {},
   "outputs": [],
   "source": [
    "# get the default brain\n",
    "brain_name = env.brain_names[0]\n",
    "brain = env.brains[brain_name]"
   ]
  },
  {
   "cell_type": "markdown",
   "metadata": {},
   "source": [
    "### 2. Examine the State and Action Spaces\n",
    "\n",
    "Run the code cell below to print some information about the environment."
   ]
  },
  {
   "cell_type": "code",
   "execution_count": 4,
   "metadata": {},
   "outputs": [
    {
     "name": "stdout",
     "output_type": "stream",
     "text": [
      "Number of agents: 1\n",
      "Number of actions: 4\n",
      "States look like: [ 1.          0.          0.          0.          0.84408134  0.          0.\n",
      "  1.          0.          0.0748472   0.          1.          0.          0.\n",
      "  0.25755     1.          0.          0.          0.          0.74177343\n",
      "  0.          1.          0.          0.          0.25854847  0.          0.\n",
      "  1.          0.          0.09355672  0.          1.          0.          0.\n",
      "  0.31969345  0.          0.        ]\n",
      "States have length: 37\n"
     ]
    }
   ],
   "source": [
    "# reset the environment\n",
    "env_info = env.reset(train_mode=True)[brain_name]\n",
    "\n",
    "# number of agents in the environment\n",
    "print('Number of agents:', len(env_info.agents))\n",
    "\n",
    "# number of actions\n",
    "action_size = brain.vector_action_space_size\n",
    "print('Number of actions:', action_size)\n",
    "\n",
    "# examine the state space \n",
    "state = env_info.vector_observations[0]\n",
    "print('States look like:', state)\n",
    "state_size = len(state)\n",
    "print('States have length:', state_size)"
   ]
  },
  {
   "cell_type": "markdown",
   "metadata": {},
   "source": [
    "### 3. Take Random Actions in the Environment\n",
    "\n",
    "In the next code cell, you will learn how to use the Python API to control the agent and receive feedback from the environment.\n",
    "\n",
    "Note that **in this coding environment, you will not be able to watch the agent while it is training**, and you should set `train_mode=True` to restart the environment."
   ]
  },
  {
   "cell_type": "code",
   "execution_count": 5,
   "metadata": {},
   "outputs": [],
   "source": [
    "from dqn_agent import Agent\n",
    "agent = Agent(state_size=state_size, action_size=action_size, seed=0)\n"
   ]
  },
  {
   "cell_type": "code",
   "execution_count": 7,
   "metadata": {},
   "outputs": [
    {
     "name": "stdout",
     "output_type": "stream",
     "text": [
      "Episode 100\tAverage Score: -0.01\n",
      "Episode 200\tAverage Score: -0.01\n",
      "Episode 300\tAverage Score: 0.011\n",
      "Episode 400\tAverage Score: -0.04\n",
      "Episode 500\tAverage Score: 0.051\n",
      "Episode 600\tAverage Score: 0.031\n",
      "Episode 700\tAverage Score: -0.02\n",
      "Episode 800\tAverage Score: 0.051\n",
      "Episode 900\tAverage Score: -0.04\n",
      "Episode 1000\tAverage Score: 0.07\n",
      "Episode 1100\tAverage Score: 0.10\n",
      "Episode 1200\tAverage Score: -0.03\n",
      "Episode 1300\tAverage Score: -0.01\n",
      "Episode 1400\tAverage Score: -0.02\n",
      "Episode 1500\tAverage Score: -0.01\n",
      "Episode 1600\tAverage Score: 0.031\n",
      "Episode 1700\tAverage Score: -0.05\n",
      "Episode 1800\tAverage Score: -0.02\n",
      "Episode 1900\tAverage Score: 0.001\n",
      "Episode 2000\tAverage Score: 0.031\n",
      "Episode 2100\tAverage Score: -0.01\n",
      "Episode 2200\tAverage Score: 0.021\n",
      "Episode 2300\tAverage Score: 0.011\n",
      "Episode 2400\tAverage Score: -0.04\n",
      "Episode 2500\tAverage Score: 0.021\n",
      "Episode 2600\tAverage Score: -0.02\n",
      "Episode 2700\tAverage Score: 0.001\n",
      "Episode 2800\tAverage Score: 0.021\n",
      "Episode 2900\tAverage Score: 0.00\n",
      "Episode 3000\tAverage Score: -0.05\n",
      "Episode 3100\tAverage Score: 0.051\n",
      "Episode 3200\tAverage Score: 0.07\n",
      "Episode 3300\tAverage Score: 0.011\n",
      "Episode 3400\tAverage Score: 0.06\n",
      "Episode 3500\tAverage Score: 0.00\n",
      "Episode 3600\tAverage Score: 0.011\n",
      "Episode 3700\tAverage Score: 0.03\n",
      "Episode 3800\tAverage Score: 0.001\n",
      "Episode 3900\tAverage Score: 0.02\n",
      "Episode 4000\tAverage Score: -0.01\n",
      "Episode 4100\tAverage Score: -0.04\n",
      "Episode 4200\tAverage Score: -0.03\n",
      "Episode 4300\tAverage Score: -0.03\n",
      "Episode 4400\tAverage Score: 0.001\n",
      "Episode 4500\tAverage Score: 0.031\n",
      "Episode 4600\tAverage Score: -0.01\n",
      "Episode 4700\tAverage Score: -0.03\n",
      "Episode 4800\tAverage Score: 0.051\n",
      "Episode 4900\tAverage Score: 0.04\n",
      "Episode 5000\tAverage Score: 0.02\n",
      "Episode 5100\tAverage Score: -0.05\n",
      "Episode 5200\tAverage Score: 0.061\n",
      "Episode 5300\tAverage Score: -0.05\n",
      "Episode 5400\tAverage Score: 0.011\n",
      "Episode 5500\tAverage Score: -0.03\n",
      "Episode 5600\tAverage Score: 0.011\n",
      "Episode 5700\tAverage Score: 0.091\n",
      "Episode 5800\tAverage Score: 0.03\n",
      "Episode 5900\tAverage Score: 0.011\n",
      "Episode 6000\tAverage Score: 0.04\n",
      "Episode 6100\tAverage Score: -0.03\n",
      "Episode 6200\tAverage Score: 0.031\n",
      "Episode 6300\tAverage Score: 0.04\n",
      "Episode 6400\tAverage Score: 0.05\n",
      "Episode 6500\tAverage Score: 0.06\n",
      "Episode 6600\tAverage Score: -0.06\n",
      "Episode 6700\tAverage Score: 0.041\n",
      "Episode 6800\tAverage Score: -0.03\n",
      "Episode 6900\tAverage Score: 0.081\n",
      "Episode 7000\tAverage Score: -0.03\n",
      "Episode 7100\tAverage Score: -0.01\n",
      "Episode 7200\tAverage Score: 0.031\n",
      "Episode 7300\tAverage Score: -0.06\n",
      "Episode 7400\tAverage Score: 0.041\n",
      "Episode 7500\tAverage Score: 0.04\n",
      "Episode 7600\tAverage Score: -0.01\n",
      "Episode 7700\tAverage Score: 0.021\n",
      "Episode 7800\tAverage Score: -0.02\n",
      "Episode 7900\tAverage Score: 0.121\n",
      "Episode 8000\tAverage Score: 0.001\n",
      "Episode 8100\tAverage Score: -0.01\n",
      "Episode 8200\tAverage Score: 0.021\n",
      "Episode 8300\tAverage Score: -0.05\n",
      "Episode 8400\tAverage Score: 0.041\n",
      "Episode 8500\tAverage Score: -0.01\n",
      "Episode 8600\tAverage Score: 0.001\n",
      "Episode 8700\tAverage Score: 0.071\n",
      "Episode 8800\tAverage Score: -0.03\n",
      "Episode 8900\tAverage Score: 0.041\n",
      "Episode 9000\tAverage Score: -0.07\n",
      "Episode 9100\tAverage Score: 0.021\n",
      "Episode 9200\tAverage Score: 0.051\n",
      "Episode 9300\tAverage Score: 0.001\n",
      "Episode 9400\tAverage Score: -0.03\n",
      "Episode 9500\tAverage Score: -0.06\n",
      "Episode 9600\tAverage Score: 0.022\n",
      "Episode 9700\tAverage Score: 0.02\n",
      "Episode 9800\tAverage Score: 0.001\n",
      "Episode 9900\tAverage Score: 0.041\n",
      "Episode 10000\tAverage Score: 0.02\n",
      "Episode 10100\tAverage Score: -0.04\n",
      "Episode 10200\tAverage Score: 0.041\n",
      "Episode 10300\tAverage Score: -0.02\n",
      "Episode 10400\tAverage Score: 0.061\n",
      "Episode 10500\tAverage Score: -0.01\n",
      "Episode 10600\tAverage Score: 0.031\n",
      "Episode 10700\tAverage Score: -0.01\n",
      "Episode 10800\tAverage Score: 0.001\n",
      "Episode 10900\tAverage Score: -0.03\n",
      "Episode 11000\tAverage Score: 0.021\n",
      "Episode 11100\tAverage Score: -0.02\n",
      "Episode 11200\tAverage Score: -0.01\n",
      "Episode 11300\tAverage Score: 0.031\n",
      "Episode 11400\tAverage Score: 0.06\n",
      "Episode 11500\tAverage Score: 0.011\n",
      "Episode 11600\tAverage Score: 0.00\n",
      "Episode 11700\tAverage Score: -0.06\n",
      "Episode 11800\tAverage Score: -0.01\n",
      "Episode 11900\tAverage Score: 0.021\n",
      "Episode 12000\tAverage Score: 0.12\n",
      "Episode 12100\tAverage Score: -0.05\n",
      "Episode 12200\tAverage Score: 0.041\n",
      "Episode 12300\tAverage Score: 0.05\n",
      "Episode 12400\tAverage Score: 0.06\n",
      "Episode 12500\tAverage Score: -0.01\n",
      "Episode 12600\tAverage Score: -0.06\n",
      "Episode 12700\tAverage Score: -0.05\n",
      "Episode 12800\tAverage Score: -0.03\n",
      "Episode 12900\tAverage Score: -0.06\n",
      "Episode 13000\tAverage Score: 0.001\n",
      "Episode 13100\tAverage Score: 0.041\n",
      "Episode 13200\tAverage Score: -0.02\n",
      "Episode 13300\tAverage Score: 0.031\n",
      "Episode 13400\tAverage Score: 0.02\n",
      "Episode 13500\tAverage Score: -0.01\n",
      "Episode 13600\tAverage Score: -0.03\n",
      "Episode 13700\tAverage Score: 0.001\n",
      "Episode 13800\tAverage Score: 0.10\n",
      "Episode 13900\tAverage Score: -0.03\n",
      "Episode 14000\tAverage Score: -0.04\n",
      "Episode 14100\tAverage Score: -0.03\n",
      "Episode 14200\tAverage Score: 0.001\n",
      "Episode 14300\tAverage Score: -0.06\n",
      "Episode 14400\tAverage Score: 0.021\n",
      "Episode 14500\tAverage Score: -0.01\n",
      "Episode 14600\tAverage Score: 0.011\n",
      "Episode 14700\tAverage Score: 0.011\n",
      "Episode 14800\tAverage Score: -0.04\n",
      "Episode 14900\tAverage Score: 0.001\n",
      "Episode 15000\tAverage Score: -0.02\n",
      "Episode 15100\tAverage Score: 0.031\n",
      "Episode 15200\tAverage Score: -0.02\n",
      "Episode 15300\tAverage Score: 0.041\n",
      "Episode 15400\tAverage Score: 0.02\n",
      "Episode 15500\tAverage Score: -0.01\n",
      "Episode 15600\tAverage Score: -0.04\n",
      "Episode 15700\tAverage Score: -0.02\n",
      "Episode 15800\tAverage Score: -0.06\n",
      "Episode 15900\tAverage Score: 0.031\n",
      "Episode 16000\tAverage Score: -0.01\n",
      "Episode 16100\tAverage Score: 0.101\n",
      "Episode 16200\tAverage Score: 0.06\n",
      "Episode 16300\tAverage Score: 0.01\n",
      "Episode 16400\tAverage Score: -0.03\n",
      "Episode 16500\tAverage Score: 0.051\n",
      "Episode 16600\tAverage Score: 0.01\n",
      "Episode 16700\tAverage Score: -0.12\n",
      "Episode 16800\tAverage Score: 0.041\n",
      "Episode 16900\tAverage Score: 0.001\n",
      "Episode 17000\tAverage Score: -0.01\n",
      "Episode 17100\tAverage Score: 0.031\n",
      "Episode 17200\tAverage Score: -0.01\n",
      "Episode 17300\tAverage Score: -0.05\n",
      "Episode 17400\tAverage Score: -0.04\n",
      "Episode 17500\tAverage Score: 0.061\n",
      "Episode 17600\tAverage Score: -0.09\n",
      "Episode 17700\tAverage Score: 0.041\n",
      "Episode 17800\tAverage Score: -0.08\n",
      "Episode 17900\tAverage Score: 0.031\n",
      "Episode 18000\tAverage Score: -0.01\n",
      "Episode 18100\tAverage Score: -0.11\n",
      "Episode 18200\tAverage Score: 0.051\n",
      "Episode 18300\tAverage Score: 0.03\n",
      "Episode 18400\tAverage Score: -0.02\n",
      "Episode 18500\tAverage Score: 0.021\n",
      "Episode 18600\tAverage Score: -0.01\n",
      "Episode 18700\tAverage Score: -0.02\n",
      "Episode 18800\tAverage Score: -0.04\n",
      "Episode 18900\tAverage Score: -0.07\n",
      "Episode 19000\tAverage Score: -0.04\n",
      "Episode 19100\tAverage Score: -0.08\n",
      "Episode 19200\tAverage Score: 0.041\n",
      "Episode 19300\tAverage Score: -0.01\n",
      "Episode 19400\tAverage Score: 0.021\n",
      "Episode 19500\tAverage Score: 0.02\n",
      "Episode 19600\tAverage Score: -0.01\n",
      "Episode 19700\tAverage Score: -0.03\n",
      "Episode 19800\tAverage Score: 0.031\n",
      "Episode 19900\tAverage Score: -0.09\n",
      "Episode 20000\tAverage Score: -0.03\n"
     ]
    },
    {
     "data": {
      "image/png": "[encoded data removed]",
      "text/plain": [
       "<matplotlib.figure.Figure at 0x7f4230474320>"
      ]
     },
     "metadata": {
      "needs_background": "light"
     },
     "output_type": "display_data"
    }
   ],
   "source": [
    "from collections import deque\n",
    "import matplotlib.pyplot as plt\n",
    "%matplotlib inline\n",
    "\n",
    "def dqn(n_episodes=20000, max_t=1000, eps_start=1.0, eps_end=0.01, eps_decay=0.995):\n",
    "    \"\"\"Deep Q-Learning.\n",
    "    \n",
    "    Params\n",
    "    ======\n",
    "        n_episodes (int): maximum number of training episodes\n",
    "        max_t (int): maximum number of timesteps per episode\n",
    "        eps_start (float): starting value of epsilon, for epsilon-greedy action selection\n",
    "        eps_end (float): minimum value of epsilon\n",
    "        eps_decay (float): multiplicative factor (per episode) for decreasing epsilon\n",
    "    \"\"\"\n",
    "    scores = []                        # list containing scores from each episode\n",
    "    scores_window = deque(maxlen=100)  # last 100 scores\n",
    "    eps = eps_start                    # initialize epsilon\n",
    "    for i_episode in range(1, n_episodes+1):\n",
    "        state = env.reset(train_mode=True)[brain_name].vector_observations[0]\n",
    "        score = 0\n",
    "        for t in range(max_t):\n",
    "            action = agent.act(state, eps)\n",
    "            stepResult = env.step(action)\n",
    "            agent.step(state, action, stepResult[brain_name].rewards[0], stepResult[brain_name].vector_observations[0], stepResult[brain_name].local_done)\n",
    "            state = stepResult[brain_name].vector_observations[0]\n",
    "            score += stepResult[brain_name].rewards[0]\n",
    "            if stepResult[brain_name].local_done:\n",
    "                break \n",
    "        scores_window.append(score)       # save most recent score\n",
    "        scores.append(score)              # save most recent score\n",
    "        eps = max(eps_end, eps_decay*eps) # decrease epsilon\n",
    "        print('\\rEpisode {}\\tAverage Score: {:.2f}'.format(i_episode, np.mean(scores_window)), end=\"\")\n",
    "        if i_episode % 100 == 0:\n",
    "            print('\\rEpisode {}\\tAverage Score: {:.2f}'.format(i_episode, np.mean(scores_window)))\n",
    "        if np.mean(scores_window)>=200.0:\n",
    "            print('\\nEnvironment solved in {:d} episodes!\\tAverage Score: {:.2f}'.format(i_episode-100, np.mean(scores_window)))\n",
    "            torch.save(agent.qnetwork_local.state_dict(), 'checkpoint.pth')\n",
    "            break\n",
    "    return scores\n",
    "\n",
    "scores = dqn()\n",
    "\n",
    "# plot the scores\n",
    "fig = plt.figure()\n",
    "ax = fig.add_subplot(111)\n",
    "plt.plot(np.arange(len(scores)), scores)\n",
    "plt.ylabel('Score')\n",
    "plt.xlabel('Episode #')\n",
    "plt.show()"
   ]
  },
  {
   "cell_type": "code",
   "execution_count": 8,
   "metadata": {},
   "outputs": [
    {
     "name": "stdout",
     "output_type": "stream",
     "text": [
      "Score: -1.0\n"
     ]
    }
   ],
   "source": [
    "env_info = env.reset(train_mode=True)[brain_name] # reset the environment\n",
    "state = env_info.vector_observations[0]            # get the current state\n",
    "score = 0                                          # initialize the score\n",
    "while True:\n",
    "    action = agent.act(state)        # select an action\n",
    "    env_info = env.step(action)[brain_name]        # send the action to the environment\n",
    "    next_state = env_info.vector_observations[0]   # get the next state\n",
    "    reward = env_info.rewards[0]                   # get the reward\n",
    "    done = env_info.local_done[0]                  # see if episode has finished\n",
    "    score += reward                                # update the score\n",
    "    state = next_state                             # roll over the state to next time step\n",
    "    if done:                                       # exit loop if episode finished\n",
    "        break\n",
    "    \n",
    "print(\"Score: {}\".format(score))"
   ]
  },
  {
   "cell_type": "markdown",
   "metadata": {},
   "source": [
    "When finished, you can close the environment."
   ]
  },
  {
   "cell_type": "code",
   "execution_count": 6,
   "metadata": {},
   "outputs": [],
   "source": [
    "env.close()"
   ]
  },
  {
   "cell_type": "markdown",
   "metadata": {},
   "source": [
    "### 4. It's Your Turn!\n",
    "\n",
    "Now it's your turn to train your own agent to solve the environment!  A few **important notes**:\n",
    "- When training the environment, set `train_mode=True`, so that the line for resetting the environment looks like the following:\n",
    "```python\n",
    "env_info = env.reset(train_mode=True)[brain_name]\n",
    "```\n",
    "- To structure your work, you're welcome to work directly in this Jupyter notebook, or you might like to start over with a new file!  You can see the list of files in the workspace by clicking on **_Jupyter_** in the top left corner of the notebook.\n",
    "- In this coding environment, you will not be able to watch the agent while it is training.  However, **_after training the agent_**, you can download the saved model weights to watch the agent on your own machine! "
   ]
  }
 ],
 "metadata": {
  "kernelspec": {
   "display_name": "Python 3",
   "language": "python",
   "name": "python3"
  },
  "language_info": {
   "codemirror_mode": {
    "name": "ipython",
    "version": 3
   },
   "file_extension": ".py",
   "mimetype": "text/x-python",
   "name": "python",
   "nbconvert_exporter": "python",
   "pygments_lexer": "ipython3",
   "version": "3.6.3"
  }
 },
 "nbformat": 4,
 "nbformat_minor": 2
}
